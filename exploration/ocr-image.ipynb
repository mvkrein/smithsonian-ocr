{
 "cells": [
  {
   "cell_type": "markdown",
   "metadata": {},
   "source": [
    "## Define imports"
   ]
  },
  {
   "cell_type": "code",
   "execution_count": 1,
   "metadata": {},
   "outputs": [],
   "source": [
    "import requests\n",
    "import shutil\n",
    "from bs4 import BeautifulSoup\n",
    "import json\n",
    "import pandas as pd\n",
    "\n",
    "# self created .py file\n",
    "import ocr\n",
    "\n",
    "# for conversion to hocr\n",
    "import re\n",
    "import io\n",
    "from PIL import Image"
   ]
  },
  {
   "cell_type": "code",
   "execution_count": 2,
   "metadata": {},
   "outputs": [],
   "source": [
    "import json\n",
    "import os\n",
    "import sys\n",
    "import requests\n",
    "import time\n",
    "\n",
    "# If you are using a Jupyter notebook, uncomment the following line.\n",
    "# %matplotlib inline\n",
    "import numpy as np\n",
    "import matplotlib.pyplot as plt\n",
    "from matplotlib.patches import Polygon\n",
    "from PIL import Image\n",
    "from io import BytesIO"
   ]
  },
  {
   "cell_type": "markdown",
   "metadata": {},
   "source": [
    "## Web Scraping Images\n",
    "\n",
    "Define images that need to be scraped. Get the page links of each image + metadata"
   ]
  },
  {
   "cell_type": "code",
   "execution_count": 53,
   "metadata": {},
   "outputs": [],
   "source": [
    "base_url = 'https://transcription.si.edu'\n",
    "\n",
    "# function to get the links of each page on the home project page\n",
    "def get_page_links():\n",
    "    '''\n",
    "        purpose: this function gets the links of each project on the home project page. \n",
    "                 we need this to get the individual images in each project\n",
    "        returns: \n",
    "            - the id of each project\n",
    "    '''\n",
    "    projects = []\n",
    "    \n",
    "    # iterate through each page\n",
    "    pagenum = 1\n",
    "    while True:\n",
    "        response = requests.get(base_url + '/browse?filter=all&sort=notdone&page=' + str(pagenum))\n",
    "        soup = BeautifulSoup(response.text)\n",
    "        links = [link['href'] for link in soup.find_all('a') if 'project' in link['href']]\n",
    "        links = list(set(links))\n",
    "        if len(links) > 0:\n",
    "            projects.extend(links)\n",
    "            pagenum = pagenum + 1\n",
    "        else:\n",
    "            break\n",
    "            \n",
    "    # only get the ids\n",
    "    projects = [project.split('/')[-1] for project in projects]\n",
    "    return projects\n",
    "\n",
    "# gets all the images in a project that have not yet been worked on\n",
    "def get_project_images(project_id):\n",
    "    '''\n",
    "        purpose: this function gets the links of the image in the project\n",
    "        params:\n",
    "            - project_id: id of the project to retrieve the images for\n",
    "        returns: \n",
    "            - the links of the images that have not been started on yet!\n",
    "    '''\n",
    "    pagenum = 0\n",
    "    all_images = []\n",
    "    while True:\n",
    "        response = requests.get('https://transcription.si.edu/assets/' + str(project_id) + '/' + str(pagenum) + '?status=')\n",
    "        soup = BeautifulSoup(response.text)\n",
    "        if len(soup.find_all('img')) > 0:\n",
    "#             images = [asset.find('img')['src'] for asset in soup.find_all('div', class_ = 'asset') if 'Start' in asset.text]\n",
    "            images = [asset.find('img')['src'] for asset in soup.find_all('div', class_ = 'asset')]\n",
    "            all_images.extend(images)\n",
    "            pagenum = pagenum + 1\n",
    "        else:\n",
    "            break\n",
    "    all_images = [img.replace('max_w=210', 'max_w=2000') for img in all_images]\n",
    "    return all_images"
   ]
  },
  {
   "cell_type": "code",
   "execution_count": 54,
   "metadata": {},
   "outputs": [],
   "source": [
    "projects = get_page_links()"
   ]
  },
  {
   "cell_type": "code",
   "execution_count": 55,
   "metadata": {
    "scrolled": true
   },
   "outputs": [
    {
     "name": "stdout",
     "output_type": "stream",
     "text": [
      "26762\n",
      "26753\n",
      "23962\n",
      "29922\n",
      "29967\n",
      "26771\n",
      "29769\n",
      "30329\n",
      "26774\n",
      "18067\n",
      "30422\n",
      "30362\n",
      "23956\n",
      "28704\n",
      "18052\n",
      "29259\n",
      "29961\n",
      "30359\n",
      "29934\n",
      "23953\n",
      "30323\n"
     ]
    }
   ],
   "source": [
    "# save the information into a dictionary\n",
    "project_dict = {}\n",
    "\n",
    "# iterate thru every project - this could use multiprocessing.. can be slow\n",
    "for project in projects:\n",
    "    \n",
    "    # how is it going?\n",
    "    print(project)\n",
    "    \n",
    "    # call the function\n",
    "    images = get_project_images(project)\n",
    "    \n",
    "    # save to dict only if there are images that haven't been started on yet\n",
    "    if len(images) > 0:\n",
    "        project_dict[project] = images"
   ]
  },
  {
   "cell_type": "code",
   "execution_count": 122,
   "metadata": {},
   "outputs": [],
   "source": [
    "# save as json if necessary... since the process takes some time to run\n",
    "\n",
    "# with open('data.json', 'w') as fp:\n",
    "#     json.dump(project_dict, fp)\n",
    "\n",
    "# with open('data.json', 'r') as fp:\n",
    "#     data = json.load(fp)"
   ]
  },
  {
   "cell_type": "markdown",
   "metadata": {},
   "source": [
    "## Hit the Azure Endpoint to get OCR Text\n",
    "\n",
    "Use our custom defined function to get the text of the image. This works well, but we get back a json of bounding boxes & lines. doesn't give us larger bounding boxes (ie. news paper paragraph?)"
   ]
  },
  {
   "cell_type": "code",
   "execution_count": 175,
   "metadata": {},
   "outputs": [],
   "source": [
    "image_url = 'https://transcription.si.edu/transcribe/23953/NASM-NASM.XXXX.0450-M0000176-00110'"
   ]
  },
  {
   "cell_type": "code",
   "execution_count": 176,
   "metadata": {},
   "outputs": [
    {
     "name": "stdout",
     "output_type": "stream",
     "text": [
      "web hosted image\n"
     ]
    },
    {
     "ename": "HTTPError",
     "evalue": "401 Client Error: PermissionDenied for url: https://smithsonian-ocr.cognitiveservices.azure.com//vision/v3.0/read/analyze",
     "output_type": "error",
     "traceback": [
      "\u001b[1;31m---------------------------------------------------------------------------\u001b[0m",
      "\u001b[1;31mHTTPError\u001b[0m                                 Traceback (most recent call last)",
      "\u001b[1;32m<ipython-input-176-b314f3a3260b>\u001b[0m in \u001b[0;36m<module>\u001b[1;34m\u001b[0m\n\u001b[1;32m----> 1\u001b[1;33m \u001b[0mjson_response\u001b[0m \u001b[1;33m=\u001b[0m \u001b[0mocr\u001b[0m\u001b[1;33m.\u001b[0m\u001b[0mget_text\u001b[0m\u001b[1;33m(\u001b[0m\u001b[0mimage_url\u001b[0m\u001b[1;33m,\u001b[0m \u001b[1;34m'26771'\u001b[0m\u001b[1;33m)\u001b[0m\u001b[1;33m\u001b[0m\u001b[1;33m\u001b[0m\u001b[0m\n\u001b[0m",
      "\u001b[1;32m~\\Documents\\smithsonian-ocr\\exploration\\ocr.py\u001b[0m in \u001b[0;36mget_text\u001b[1;34m(image_url, project_id, plot)\u001b[0m\n\u001b[0;32m     50\u001b[0m         response = requests.post(\n\u001b[0;32m     51\u001b[0m             text_recognition_url, headers=headers, json=data)\n\u001b[1;32m---> 52\u001b[1;33m         \u001b[0mresponse\u001b[0m\u001b[1;33m.\u001b[0m\u001b[0mraise_for_status\u001b[0m\u001b[1;33m(\u001b[0m\u001b[1;33m)\u001b[0m\u001b[1;33m\u001b[0m\u001b[1;33m\u001b[0m\u001b[0m\n\u001b[0m\u001b[0;32m     53\u001b[0m \u001b[1;33m\u001b[0m\u001b[0m\n\u001b[0;32m     54\u001b[0m     \u001b[1;31m# image_path = \"smithsonian.png\"\u001b[0m\u001b[1;33m\u001b[0m\u001b[1;33m\u001b[0m\u001b[1;33m\u001b[0m\u001b[0m\n",
      "\u001b[1;32m~\\anaconda3\\lib\\site-packages\\requests\\models.py\u001b[0m in \u001b[0;36mraise_for_status\u001b[1;34m(self)\u001b[0m\n\u001b[0;32m    939\u001b[0m \u001b[1;33m\u001b[0m\u001b[0m\n\u001b[0;32m    940\u001b[0m         \u001b[1;32mif\u001b[0m \u001b[0mhttp_error_msg\u001b[0m\u001b[1;33m:\u001b[0m\u001b[1;33m\u001b[0m\u001b[1;33m\u001b[0m\u001b[0m\n\u001b[1;32m--> 941\u001b[1;33m             \u001b[1;32mraise\u001b[0m \u001b[0mHTTPError\u001b[0m\u001b[1;33m(\u001b[0m\u001b[0mhttp_error_msg\u001b[0m\u001b[1;33m,\u001b[0m \u001b[0mresponse\u001b[0m\u001b[1;33m=\u001b[0m\u001b[0mself\u001b[0m\u001b[1;33m)\u001b[0m\u001b[1;33m\u001b[0m\u001b[1;33m\u001b[0m\u001b[0m\n\u001b[0m\u001b[0;32m    942\u001b[0m \u001b[1;33m\u001b[0m\u001b[0m\n\u001b[0;32m    943\u001b[0m     \u001b[1;32mdef\u001b[0m \u001b[0mclose\u001b[0m\u001b[1;33m(\u001b[0m\u001b[0mself\u001b[0m\u001b[1;33m)\u001b[0m\u001b[1;33m:\u001b[0m\u001b[1;33m\u001b[0m\u001b[1;33m\u001b[0m\u001b[0m\n",
      "\u001b[1;31mHTTPError\u001b[0m: 401 Client Error: PermissionDenied for url: https://smithsonian-ocr.cognitiveservices.azure.com//vision/v3.0/read/analyze"
     ]
    }
   ],
   "source": [
    "json_response = ocr.get_text(image_url, '26771')"
   ]
  },
  {
   "cell_type": "code",
   "execution_count": 209,
   "metadata": {},
   "outputs": [],
   "source": [
    "analysis = json.loads(json_response)"
   ]
  },
  {
   "cell_type": "markdown",
   "metadata": {},
   "source": [
    "## Use pytesseract to get hOCR output\n",
    "\n",
    "Use pytesseract instead of Azure because we aren't limited in calls & don't have to convert to hOCR ourselves.\n",
    "\n",
    "Change the output to hOCR to visualize on our front-end"
   ]
  },
  {
   "cell_type": "code",
   "execution_count": 19,
   "metadata": {
    "scrolled": true
   },
   "outputs": [],
   "source": [
    "import pytesseract\n",
    "from pytesseract import image_to_pdf_or_hocr\n",
    "pytesseract.pytesseract.tesseract_cmd = r'C:\\Program Files\\Tesseract-OCR\\tesseract.exe'"
   ]
  },
  {
   "cell_type": "code",
   "execution_count": 43,
   "metadata": {
    "scrolled": true
   },
   "outputs": [],
   "source": [
    "# hocr_output = image_to_pdf_or_hocr('testing.jpg', extension='hocr')\n",
    "# hocr = hocr_output.decode('utf-8')"
   ]
  },
  {
   "cell_type": "code",
   "execution_count": 120,
   "metadata": {},
   "outputs": [],
   "source": [
    "# # this is the xml that needs to be passed to the front-end \n",
    "# BeautifulSoup(hocr, parser='xml')"
   ]
  },
  {
   "cell_type": "code",
   "execution_count": 121,
   "metadata": {},
   "outputs": [],
   "source": [
    "import cv2"
   ]
  },
  {
   "cell_type": "code",
   "execution_count": null,
   "metadata": {},
   "outputs": [],
   "source": []
  },
  {
   "cell_type": "code",
   "execution_count": 122,
   "metadata": {},
   "outputs": [],
   "source": [
    "def get_image_url(input_url):\n",
    "    try:\n",
    "        r = requests.get(input_url)\n",
    "        soup = BeautifulSoup(r.text)\n",
    "\n",
    "        if 'project phaedra' in soup.text.lower().strip():\n",
    "            pid = soup.find('div', {'id': 'transcription-asset-wrapper'})['data-idsid']\n",
    "        else:\n",
    "            pid = input_url.split('/')[-1]\n",
    "\n",
    "        image_url = 'https://ids.si.edu/ids/deliveryService?max_w=2000&id=' + pid\n",
    "        return image_url\n",
    "    except Exception as e:\n",
    "        print(e)\n",
    "        return None\n",
    "\n",
    "def get_hOCR(image_url):\n",
    "    \n",
    "    # load the image over requests\n",
    "    response = requests.get(image_url, stream=True)\n",
    "    img = Image.open(io.BytesIO(response.content))\n",
    "\n",
    "    return img\n",
    "    # get the hocr & parse. replace the image in the current text with the image_url\n",
    "    hocr_output = image_to_pdf_or_hocr(img, extension='hocr')\n",
    "    hocr = hocr_output.decode('utf-8')\n",
    "    soup = BeautifulSoup(hocr, parser='xml')\n",
    "    soup = BeautifulSoup(re.sub(r'image \\\"(.+?)\\\"', 'image ' + '\"' + image_url + '\"', str(soup)))\n",
    "    return soup"
   ]
  },
  {
   "cell_type": "code",
   "execution_count": 123,
   "metadata": {},
   "outputs": [],
   "source": [
    "image_url = get_image_url('https://transcription.si.edu/transcribe/23953/NASM-NASM.XXXX.0450-M0000176-00110')\n",
    "soup = get_hOCR(image_url)"
   ]
  },
  {
   "cell_type": "code",
   "execution_count": 125,
   "metadata": {},
   "outputs": [],
   "source": [
    "import numpy as np"
   ]
  },
  {
   "cell_type": "code",
   "execution_count": 132,
   "metadata": {},
   "outputs": [],
   "source": [
    "import cv2"
   ]
  },
  {
   "cell_type": "code",
   "execution_count": 134,
   "metadata": {},
   "outputs": [],
   "source": [
    "soup.save('image.png')"
   ]
  },
  {
   "cell_type": "code",
   "execution_count": 135,
   "metadata": {},
   "outputs": [],
   "source": [
    "img = cv2.imread('image.png', 0)\n",
    "ret,thresh1 = cv2.threshold(img,127,255,cv2.THRESH_BINARY)\n",
    "ret,thresh2 = cv2.threshold(img,127,255,cv2.THRESH_BINARY_INV)\n",
    "ret,thresh3 = cv2.threshold(img,127,255,cv2.THRESH_TRUNC)\n",
    "ret,thresh4 = cv2.threshold(img,127,255,cv2.THRESH_TOZERO)\n",
    "ret,thresh5 = cv2.threshold(img,127,255,cv2.THRESH_TOZERO_INV)"
   ]
  },
  {
   "cell_type": "code",
   "execution_count": 174,
   "metadata": {},
   "outputs": [
    {
     "data": {
      "text/plain": [
       "<matplotlib.image.AxesImage at 0x277644f83d0>"
      ]
     },
     "execution_count": 174,
     "metadata": {},
     "output_type": "execute_result"
    },
    {
     "data": {
      "image/png": "[encoded data removed]",
      "text/plain": [
       "<Figure size 432x288 with 1 Axes>"
      ]
     },
     "metadata": {
      "needs_background": "light"
     },
     "output_type": "display_data"
    }
   ],
   "source": [
    "plt.imshow(thresh1, 'gray', vmin=0, vmax=255)"
   ]
  },
  {
   "cell_type": "code",
   "execution_count": 138,
   "metadata": {},
   "outputs": [],
   "source": [
    "from matplotlib import pyplot as plt"
   ]
  },
  {
   "cell_type": "code",
   "execution_count": 170,
   "metadata": {},
   "outputs": [
    {
     "data": {
      "image/png": "[encoded data removed]",
      "text/plain": [
       "<Figure size 432x288 with 2 Axes>"
      ]
     },
     "metadata": {},
     "output_type": "display_data"
    }
   ],
   "source": [
    "titles = ['Original Image','BINARY','BINARY_INV','TRUNC','TOZERO','TOZERO_INV']\n",
    "images = [img, thresh1, thresh2, thresh3, thresh4, thresh5]\n",
    "\n",
    "for i in range(2):\n",
    "    plt.subplot(2,3,i+1), plt.imshow(images[i],'gray',vmin=0,vmax=255)\n",
    "    plt.title(titles[i])\n",
    "    plt.xticks([]),plt.yticks([])\n",
    "plt.savefig('test2png.png', dpi=100)\n",
    "plt.show()\n",
    "\n",
    "# plt.set_size_inches(18.5, 10.5)\n"
   ]
  },
  {
   "cell_type": "code",
   "execution_count": null,
   "metadata": {},
   "outputs": [],
   "source": [
    "img = cv2.imread('image.png', 0)\n",
    "ret,thresh1 = cv2.threshold(img,127,255,cv2.THRESH_BINARY)\n",
    "ret,thresh2 = cv2.threshold(img,127,255,cv2.THRESH_BINARY_INV)\n",
    "ret,thresh3 = cv2.threshold(img,127,255,cv2.THRESH_TRUNC)\n",
    "ret,thresh4 = cv2.threshold(img,127,255,cv2.THRESH_TOZERO)\n",
    "ret,thresh5 = cv2.threshold(img,127,255,cv2.THRESH_TOZERO_INV)"
   ]
  }
 ],
 "metadata": {
  "kernelspec": {
   "display_name": "Python 3",
   "language": "python",
   "name": "python3"
  },
  "language_info": {
   "codemirror_mode": {
    "name": "ipython",
    "version": 3
   },
   "file_extension": ".py",
   "mimetype": "text/x-python",
   "name": "python",
   "nbconvert_exporter": "python",
   "pygments_lexer": "ipython3",
   "version": "3.8.3"
  }
 },
 "nbformat": 4,
 "nbformat_minor": 4
}
